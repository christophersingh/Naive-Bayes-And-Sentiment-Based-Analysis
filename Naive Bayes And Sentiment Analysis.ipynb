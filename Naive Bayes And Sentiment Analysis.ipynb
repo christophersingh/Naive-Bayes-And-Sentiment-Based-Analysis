{
 "cells": [
  {
   "cell_type": "code",
   "execution_count": 4,
   "metadata": {
    "collapsed": true
   },
   "outputs": [],
   "source": [
    "import nltk\n",
    "from nltk.tokenize import word_tokenize\n",
    "from nltk.corpus import stopwords"
   ]
  },
  {
   "cell_type": "code",
   "execution_count": 34,
   "metadata": {},
   "outputs": [],
   "source": [
    "#Read the datasets\n",
    "path = './data/'\n",
    "filePrefix = 'training_'\n",
    "categories=['POS','NEG']\n",
    "\n",
    "def apply_stopwording(corpus, min_len):\n",
    "    punctuations = \".,\\\"-\\\\/#!?$%\\^&\\*;:{}=\\-_'~()\"    \n",
    "    filtered_corpus = [token for token in corpus if (not token in stopwords.words('english') and len(token)>min_len) and (not token in punctuations)]\n",
    "    return filtered_corpus\n",
    "\n",
    "training = []\n",
    "for category in categories:\n",
    "    fileName=path+filePrefix+category.lower()\n",
    "    f=open(fileName,'r')\n",
    "    lines=f.readlines()\n",
    "    for line in lines:\n",
    "        text = line.replace('\\n',' ').lower()\n",
    "        tokens = nltk.word_tokenize(text)\n",
    "        cleaned_tokens = apply_stopwording(tokens,3)\n",
    "        training.append((cleaned_tokens,category.lower()))\n",
    "    f.close\n"
   ]
  },
  {
   "cell_type": "code",
   "execution_count": 73,
   "metadata": {},
   "outputs": [
    {
     "data": {
      "text/plain": [
       "<function TextIOWrapper.close>"
      ]
     },
     "execution_count": 73,
     "metadata": {},
     "output_type": "execute_result"
    }
   ],
   "source": [
    "fileName=path+\"testing_sentiment.txt\"\n",
    "testing = []\n",
    "\n",
    "f=open(fileName,'r')\n",
    "lines=f.readlines()\n",
    "for line in lines:\n",
    "    linetext = line.replace('\\n',' ').lower()\n",
    "    text,label = linetext.split(\"\\t\")\n",
    "    tokens = nltk.word_tokenize(text)\n",
    "    cleaned_tokens = apply_stopwording(tokens,3)\n",
    "    testing.append((cleaned_tokens,label.rstrip().lower()))\n",
    "f.close"
   ]
  },
  {
   "cell_type": "code",
   "execution_count": 45,
   "metadata": {},
   "outputs": [],
   "source": [
    "vocabulary = set(token for tokens in training for token in tokens[0])"
   ]
  },
  {
   "cell_type": "code",
   "execution_count": 48,
   "metadata": {},
   "outputs": [
    {
     "name": "stdout",
     "output_type": "stream",
     "text": [
      "44825\n"
     ]
    }
   ],
   "source": [
    "print(len(vocabulary))"
   ]
  },
  {
   "cell_type": "markdown",
   "metadata": {},
   "source": [
    "## Creating the Training VSM "
   ]
  },
  {
   "cell_type": "code",
   "execution_count": 54,
   "metadata": {},
   "outputs": [],
   "source": [
    "training_vsm = [({word: (word in training[0]) for word in vocabulary}, x[1]) for x in training]"
   ]
  },
  {
   "cell_type": "code",
   "execution_count": 74,
   "metadata": {
    "collapsed": true
   },
   "outputs": [],
   "source": [
    "testing_vsm = [({word: (word in testing[0]) for word in vocabulary}, x[1]) for x in testing]"
   ]
  },
  {
   "cell_type": "code",
   "execution_count": 56,
   "metadata": {},
   "outputs": [],
   "source": [
    "sentiment_classifier = nltk.NaiveBayesClassifier.train(training_vsm)"
   ]
  },
  {
   "cell_type": "code",
   "execution_count": 75,
   "metadata": {},
   "outputs": [
    {
     "name": "stdout",
     "output_type": "stream",
     "text": [
      "Predicted: neg [pos]\n",
      "Predicted: neg [pos]\n",
      "Predicted: neg [pos]\n",
      "Predicted: neg [pos]\n",
      "Predicted: neg [pos]\n",
      "Predicted: neg [pos]\n",
      "Predicted: neg [pos]\n",
      "Predicted: neg [pos]\n",
      "Predicted: neg [pos]\n",
      "Predicted: neg [pos]\n",
      "Predicted: neg [neg]\n",
      "Predicted: neg [neg]\n",
      "Predicted: neg [neg]\n",
      "Predicted: neg [neg]\n",
      "Predicted: neg [neg]\n",
      "Predicted: neg [neg]\n",
      "Predicted: neg [neg]\n",
      "Predicted: neg [neg]\n",
      "Predicted: neg [neg]\n",
      "Predicted: neg [neg]\n"
     ]
    }
   ],
   "source": [
    "for text in testing_vsm:\n",
    "    predicted_sentiment = sentiment_classifier.classify(text[0])\n",
    "    print (\"Predicted: %s [%s]\" % (predicted_sentiment,text[1]))"
   ]
  },
  {
   "cell_type": "code",
   "execution_count": 76,
   "metadata": {},
   "outputs": [
    {
     "name": "stdout",
     "output_type": "stream",
     "text": [
      "0.5\n"
     ]
    }
   ],
   "source": [
    "print (nltk.classify.accuracy(sentiment_classifier, testing_vsm))"
   ]
  },
  {
   "cell_type": "code",
   "execution_count": 87,
   "metadata": {},
   "outputs": [],
   "source": [
    "article = \"I think this business proposition is risky to say the least.\"\n",
    "#article = \"I think this business proposition makes perfect sense.\"\n",
    "\n",
    "tokens = apply_stopwording(nltk.word_tokenize(article.lower()),3)\n",
    "article_features = {word.lower(): (word in tokens for word in vocabulary)}"
   ]
  },
  {
   "cell_type": "code",
   "execution_count": 88,
   "metadata": {},
   "outputs": [
    {
     "name": "stdout",
     "output_type": "stream",
     "text": [
      "neg\n"
     ]
    }
   ],
   "source": [
    "print (sentiment_classifier.classify(article_features))"
   ]
  }
 ],
 "metadata": {
  "kernelspec": {
   "display_name": "Python 3",
   "language": "python",
   "name": "python3"
  },
  "language_info": {
   "codemirror_mode": {
    "name": "ipython",
    "version": 3
   },
   "file_extension": ".py",
   "mimetype": "text/x-python",
   "name": "python",
   "nbconvert_exporter": "python",
   "pygments_lexer": "ipython3",
   "version": "3.8.2"
  }
 },
 "nbformat": 4,
 "nbformat_minor": 2
}
